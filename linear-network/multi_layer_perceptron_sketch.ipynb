{
 "cells": [
  {
   "cell_type": "markdown",
   "id": "f9445667",
   "metadata": {},
   "source": [
    "# 多层感知机"
   ]
  },
  {
   "cell_type": "code",
   "execution_count": 26,
   "id": "64642667",
   "metadata": {},
   "outputs": [],
   "source": [
    "import torch\n",
    "from torch import nn\n",
    "from d2l import torch as d2l\n",
    "import torchvision\n",
    "\n",
    "batch_size = 256\n",
    "def load_data(batch_size, isTrain=True):\n",
    "    dataset = torchvision.datasets.FashionMNIST(root='../data',\n",
    "                                                train=isTrain,\n",
    "                                                transform=torchvision.transforms.ToTensor())\n",
    "    data_loader = torch.utils.data.DataLoader(dataset, batch_size, shuffle=isTrain)\n",
    "    for imgs, labels in data_loader:\n",
    "        yield imgs.reshape(-1, 784).type(torch.float32), labels\n",
    "# train_iter, test_iter = d2l.load_data_fashion_mnist(batch_size)\n",
    "train_iter = load_data(batch_size, True)\n",
    "test_iter = load_data(batch_size, False)"
   ]
  },
  {
   "cell_type": "code",
   "execution_count": 27,
   "id": "10be8f10",
   "metadata": {},
   "outputs": [],
   "source": [
    "class Accumulator:\n",
    "    def __init__(self, n):\n",
    "        self.data = [0.] * n\n",
    "        \n",
    "    def __getitem__(self, i):\n",
    "        return self.data[i]\n",
    "    \n",
    "    def add(self, *args):\n",
    "        self.data = [a + b for (a, b) in zip(self.data, args)]"
   ]
  },
  {
   "cell_type": "markdown",
   "id": "64479bac",
   "metadata": {},
   "source": [
    "### 定义ReLu函数"
   ]
  },
  {
   "cell_type": "code",
   "execution_count": 28,
   "id": "77f84f1d",
   "metadata": {},
   "outputs": [],
   "source": [
    "def relu(X):\n",
    "    a = torch.zeros_like(X)\n",
    "    return torch.max(X, a)"
   ]
  },
  {
   "cell_type": "code",
   "execution_count": 29,
   "id": "e53228e2",
   "metadata": {},
   "outputs": [],
   "source": [
    "W1 = nn.Parameter(torch.randn(784, 256, requires_grad=True) * 0.01)\n",
    "b1 = nn.Parameter(torch.zeros(256, requires_grad=True))\n",
    "W2 = nn.Parameter(torch.randn(256, 10, requires_grad=True) * 0.01)\n",
    "b2 = nn.Parameter(torch.zeros(10, requires_grad=True))"
   ]
  },
  {
   "cell_type": "code",
   "execution_count": 30,
   "id": "eb39c918",
   "metadata": {},
   "outputs": [],
   "source": [
    "def softmax(X):\n",
    "    exp_X = torch.exp(X)\n",
    "    return exp_X / exp_X.sum(1, keepdim=True)"
   ]
  },
  {
   "cell_type": "code",
   "execution_count": 31,
   "id": "f4f35b25",
   "metadata": {},
   "outputs": [],
   "source": [
    "def net(X):\n",
    "    X = X.reshape(-1, 784)\n",
    "    H = relu(X @ W1 + b1)\n",
    "    return (H @ W2 + b2)\n",
    "#     return X @ W1 + b1"
   ]
  },
  {
   "cell_type": "code",
   "execution_count": 32,
   "id": "cb3bcbec",
   "metadata": {},
   "outputs": [],
   "source": [
    "loss = nn.CrossEntropyLoss()"
   ]
  },
  {
   "cell_type": "code",
   "execution_count": 34,
   "id": "35d5097a",
   "metadata": {},
   "outputs": [
    {
     "name": "stdout",
     "output_type": "stream",
     "text": [
      "tensor(245.1989, grad_fn=<AddBackward0>)\n",
      "tensor(6994.) 10000.0\n",
      "tensor(140.5772, grad_fn=<AddBackward0>)\n",
      "tensor(8017.) 10000.0\n",
      "tensor(122.2071, grad_fn=<AddBackward0>)\n",
      "tensor(8236.) 10000.0\n",
      "tensor(112.6896, grad_fn=<AddBackward0>)\n",
      "tensor(8180.) 10000.0\n",
      "tensor(106.3108, grad_fn=<AddBackward0>)\n",
      "tensor(8153.) 10000.0\n",
      "tensor(101.6768, grad_fn=<AddBackward0>)\n",
      "tensor(8292.) 10000.0\n",
      "tensor(97.6805, grad_fn=<AddBackward0>)\n",
      "tensor(8370.) 10000.0\n",
      "tensor(94.8235, grad_fn=<AddBackward0>)\n",
      "tensor(8464.) 10000.0\n",
      "tensor(91.7707, grad_fn=<AddBackward0>)\n",
      "tensor(8155.) 10000.0\n",
      "tensor(89.3033, grad_fn=<AddBackward0>)\n",
      "tensor(8517.) 10000.0\n"
     ]
    }
   ],
   "source": [
    "\n",
    "params = [W1, b1, W2, b2]\n",
    "updater = torch.optim.SGD(params, 0.1)\n",
    "num_epochs = 10\n",
    "# d2l.train_ch3(net, train_iter, test_iter, loss, num_epochs, updater)\n",
    "\n",
    "for epoch in range(num_epochs):\n",
    "    acc = Accumulator(2)\n",
    "    lacc = Accumulator(1)\n",
    "    train_iter = load_data(batch_size, isTrain=True)\n",
    "    test_iter = load_data(batch_size, isTrain=False)\n",
    "    for x, y in train_iter:\n",
    "        updater.zero_grad()\n",
    "        y_hat = net(x)\n",
    "        l = loss(y_hat, y)\n",
    "        lacc.add(l)\n",
    "        l.backward()\n",
    "        updater.step()\n",
    "    print(lacc[0])\n",
    "    for x, y in test_iter:\n",
    "        with torch.no_grad():\n",
    "            y_hat = net(x)\n",
    "            correct_num = (torch.argmax(y_hat, dim=1) == y).type(y.dtype).sum()\n",
    "            acc.add(correct_num, len(y))\n",
    "# #             print(softmax(y_hat))\n",
    "    print(acc[0], acc[1])"
   ]
  },
  {
   "cell_type": "code",
   "execution_count": null,
   "id": "b09c0dd5",
   "metadata": {},
   "outputs": [],
   "source": []
  }
 ],
 "metadata": {
  "kernelspec": {
   "display_name": "Python 3 (ipykernel)",
   "language": "python",
   "name": "python3"
  },
  "language_info": {
   "codemirror_mode": {
    "name": "ipython",
    "version": 3
   },
   "file_extension": ".py",
   "mimetype": "text/x-python",
   "name": "python",
   "nbconvert_exporter": "python",
   "pygments_lexer": "ipython3",
   "version": "3.8.10"
  }
 },
 "nbformat": 4,
 "nbformat_minor": 5
}
