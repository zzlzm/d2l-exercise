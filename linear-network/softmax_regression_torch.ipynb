{
 "cells": [
  {
   "cell_type": "markdown",
   "id": "d4f202c4",
   "metadata": {},
   "source": [
    "### Softmax回归框架实现\n",
    "\n",
    "1. 定义取数函数\n",
    "2. 定义模型\n",
    "3. 初始化变量\n",
    "4. 定义优化函数\n",
    "5. 定义损失函数\n",
    "6. 训练\n",
    "7. 检测训练效果"
   ]
  },
  {
   "cell_type": "code",
   "execution_count": 6,
   "id": "0cea536d",
   "metadata": {},
   "outputs": [],
   "source": [
    "import torch\n",
    "import matplotlib.pyplot as plt\n",
    "import torch.nn as nn\n",
    "import torchvision"
   ]
  },
  {
   "cell_type": "code",
   "execution_count": 7,
   "id": "9318ab1b",
   "metadata": {},
   "outputs": [],
   "source": [
    "class Accumulator:\n",
    "    def __init__(self, n):\n",
    "        self.data = [0.] * n\n",
    "        \n",
    "    def __getitem__(self, i):\n",
    "        return self.data[i]\n",
    "    \n",
    "    def add(self, *args):\n",
    "        self.data = [a + b for (a, b) in zip(self.data, args)]"
   ]
  },
  {
   "cell_type": "code",
   "execution_count": 8,
   "id": "1bd27cec",
   "metadata": {},
   "outputs": [],
   "source": [
    "def load_data(batch_size, isTrain=True):\n",
    "    dataset = torchvision.datasets.FashionMNIST(root='../data',\n",
    "                                                train=isTrain,\n",
    "                                                transform=torchvision.transforms.ToTensor())\n",
    "    data_loader = torch.utils.data.DataLoader(dataset, batch_size, shuffle=isTrain)\n",
    "    for imgs, labels in data_loader:\n",
    "        yield (imgs.reshape(batch_size, -1).type(torch.float32), labels)\n",
    "# data_iter = load_data(10, True)\n",
    "# imgs, lab = next(data_iter)\n",
    "# imgs.shape"
   ]
  },
  {
   "cell_type": "code",
   "execution_count": 9,
   "id": "6940d5f0",
   "metadata": {},
   "outputs": [],
   "source": [
    "model = torch.nn.Sequential(torch.nn.Flatten() ,torch.nn.Linear(784, 10))\n",
    "# model[1].weight = torch.nn.Parameter(torch.normal(0, 0.01, (10, 784)))\n",
    "# model[1].bias = torch.nn.Parameter(torch.zeros(10).reshape(10, -1))\n",
    "def init_weight(m):\n",
    "    if type(m) == torch.nn.Linear:\n",
    "        torch.nn.init.normal_(m.weight, std=0.01)\n",
    "        torch.nn.init.zeros_(m.bias)\n",
    "model.apply(init_weight)\n",
    "loss = torch.nn.CrossEntropyLoss()\n",
    "optimizer = torch.optim.SGD(model.parameters(), lr=0.1)\n",
    "softmax = torch.nn.Softmax(dim=0)"
   ]
  },
  {
   "cell_type": "code",
   "execution_count": 10,
   "id": "90eece06",
   "metadata": {},
   "outputs": [
    {
     "name": "stdout",
     "output_type": "stream",
     "text": [
      "epoch 0 8206.0 10000.0\n"
     ]
    }
   ],
   "source": [
    "epochs = 1\n",
    "for epoch in range(epochs):\n",
    "    data_iter = load_data(10, isTrain=True)\n",
    "    accumulator = Accumulator(2)\n",
    "    for imgs, labels in data_iter:\n",
    "        optimizer.zero_grad()\n",
    "        comp_labels = model.forward(imgs)\n",
    "        l = loss(comp_labels, labels)\n",
    "        l.backward()\n",
    "        optimizer.step()\n",
    "    data_iter_test = load_data(10, isTrain=False)\n",
    "    for imgs, labels in data_iter_test:\n",
    "        with torch.no_grad():\n",
    "            comp_labels = torch.argmax(model.forward(imgs), axis=1)\n",
    "            correct_num = (comp_labels == labels).type(labels.dtype).sum()\n",
    "            accumulator.add(correct_num.detach().numpy(), len(labels))\n",
    "    print('epoch', epoch, accumulator[0], accumulator[1])"
   ]
  },
  {
   "cell_type": "code",
   "execution_count": null,
   "id": "c415c416",
   "metadata": {},
   "outputs": [],
   "source": []
  }
 ],
 "metadata": {
  "kernelspec": {
   "display_name": "Python 3 (ipykernel)",
   "language": "python",
   "name": "python3"
  },
  "language_info": {
   "codemirror_mode": {
    "name": "ipython",
    "version": 3
   },
   "file_extension": ".py",
   "mimetype": "text/x-python",
   "name": "python",
   "nbconvert_exporter": "python",
   "pygments_lexer": "ipython3",
   "version": "3.8.10"
  }
 },
 "nbformat": 4,
 "nbformat_minor": 5
}
