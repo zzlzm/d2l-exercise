{
 "cells": [
  {
   "cell_type": "code",
   "execution_count": 74,
   "id": "af98a167",
   "metadata": {},
   "outputs": [],
   "source": [
    "import torch\n",
    "import matplotlib.pyplot as plt\n",
    "import numpy as np"
   ]
  },
  {
   "cell_type": "code",
   "execution_count": 75,
   "id": "bfe6f1cd",
   "metadata": {},
   "outputs": [
    {
     "name": "stdout",
     "output_type": "stream",
     "text": [
      "外积： tensor([ 8, 18])\n",
      "内积（点积）： tensor(11)\n",
      "哈德玛积： tensor([3, 8])\n"
     ]
    }
   ],
   "source": [
    "a = torch.tensor([[1,2],[3,4]])\n",
    "b = torch.tensor([2, 3])\n",
    "print('外积：', torch.matmul(a, b))\n",
    "x = torch.tensor([1,2])\n",
    "y = torch.tensor([3,4])\n",
    "print('内积（点积）：', torch.dot(x, y))\n",
    "print('哈德玛积：', x * y)"
   ]
  },
  {
   "cell_type": "code",
   "execution_count": 76,
   "id": "848a38eb",
   "metadata": {},
   "outputs": [
    {
     "data": {
      "text/plain": [
       "tensor([ 0.,  4.,  8., 12.])"
      ]
     },
     "execution_count": 76,
     "metadata": {},
     "output_type": "execute_result"
    }
   ],
   "source": [
    "x = torch.arange(4.0)\n",
    "x.requires_grad_(True)\n",
    "y = 2 * torch.dot(x, x)\n",
    "y.backward()\n",
    "x.grad"
   ]
  },
  {
   "cell_type": "code",
   "execution_count": null,
   "id": "6ba01e94",
   "metadata": {},
   "outputs": [],
   "source": []
  },
  {
   "cell_type": "markdown",
   "id": "16cd0885",
   "metadata": {},
   "source": [
    "## 线性回归\n",
    "1. 构造数据\n",
    "2. 定义取数函数（小批量梯度下降需要随机取数）\n",
    "2. 定义损失函数\n",
    "3. 定义优化函数\n",
    "4. 定义预测模型 $y=WX+b$\n",
    "5. 进行多轮训练\n",
    "6. 训练效果检测"
   ]
  },
  {
   "cell_type": "markdown",
   "id": "5589fbe3",
   "metadata": {},
   "source": [
    "### 构造数据\n",
    "构造一个线性数据集，假设有两个变量\n",
    "$y = w1 * x1 + w2 * x2 + b$"
   ]
  },
  {
   "cell_type": "code",
   "execution_count": 77,
   "id": "eb53629d",
   "metadata": {},
   "outputs": [
    {
     "name": "stdout",
     "output_type": "stream",
     "text": [
      "tensor([-0.5342, -1.2330]) tensor([-10.7807])\n"
     ]
    }
   ],
   "source": [
    "W = torch.tensor([5., 10])\n",
    "b = 4.2\n",
    "X = torch.normal(0, 1, (1000, 2))\n",
    "noise = torch.normal(1, 0.1, (1, 1))\n",
    "y = torch.matmul(X, W.reshape(2, 1)) + b\n",
    "y +=  torch.normal(0, 0.01, y.shape)\n",
    "print(X[0], y[0])"
   ]
  },
  {
   "cell_type": "code",
   "execution_count": 78,
   "id": "c4d992ba",
   "metadata": {},
   "outputs": [
    {
     "data": {
      "text/plain": [
       "<matplotlib.collections.PathCollection at 0x7f3b5df494f0>"
      ]
     },
     "execution_count": 78,
     "metadata": {},
     "output_type": "execute_result"
    },
    {
     "data": {
      "image/png": "[encoded data removed]",
      "text/plain": [
       "<Figure size 360x216 with 1 Axes>"
      ]
     },
     "metadata": {
      "needs_background": "light"
     },
     "output_type": "display_data"
    }
   ],
   "source": [
    "# 画图验证下y和x1之间是线性关系\n",
    "fig, ax = plt.subplots(figsize=(5, 3))\n",
    "ax.scatter(X[:, 0], y, s=1)"
   ]
  },
  {
   "cell_type": "markdown",
   "id": "15488bea",
   "metadata": {},
   "source": [
    "### 定义损失函数\n",
    "平方损失 $loss = \\frac{1}{2} * (y - yhat) ^ 2$"
   ]
  },
  {
   "cell_type": "code",
   "execution_count": 79,
   "id": "0559e558",
   "metadata": {},
   "outputs": [],
   "source": [
    "def loss(y_hat, y):\n",
    "    return (y_hat - y.reshape(y_hat.shape)) ** 2 / 2"
   ]
  },
  {
   "cell_type": "markdown",
   "id": "ac1c16b4",
   "metadata": {},
   "source": [
    "### 定义优化函数\n",
    "梯度下降法向参数的真实值逼近"
   ]
  },
  {
   "cell_type": "code",
   "execution_count": 80,
   "id": "aec8756b",
   "metadata": {},
   "outputs": [],
   "source": [
    "def sgd(params, lr, batch_size):\n",
    "    with torch.no_grad():\n",
    "        for param in params:\n",
    "            param -= lr * param.grad / batch_size\n",
    "            param.grad.zero_()"
   ]
  },
  {
   "cell_type": "markdown",
   "id": "c90b0e1b",
   "metadata": {},
   "source": [
    "### 定义取数函数\n",
    "小批量梯度下降法需要从数据集里随机取小批量的数据来进行训练"
   ]
  },
  {
   "cell_type": "code",
   "execution_count": 81,
   "id": "158ef96e",
   "metadata": {},
   "outputs": [],
   "source": [
    "def get_data(data, res, batch_size):\n",
    "    idx = list(range(len(data)))\n",
    "    np.random.shuffle(idx)\n",
    "    for i in range(0, len(idx), batch_size):\n",
    "        indices = idx[i:i + batch_size]\n",
    "        yield data[indices], res[indices]"
   ]
  },
  {
   "cell_type": "markdown",
   "id": "b7918176",
   "metadata": {},
   "source": [
    "### 定义模型"
   ]
  },
  {
   "cell_type": "code",
   "execution_count": 93,
   "id": "b88386e2",
   "metadata": {},
   "outputs": [],
   "source": [
    "def linear_reg(X, W, b):\n",
    "    return torch.matmul(X, W) + b"
   ]
  },
  {
   "cell_type": "markdown",
   "id": "04cd74b3",
   "metadata": {},
   "source": [
    "### 定义训练训练函数\n",
    "求y_hat，然后调用损失函数，对参数求导"
   ]
  },
  {
   "cell_type": "code",
   "execution_count": 90,
   "id": "abea0e1d",
   "metadata": {},
   "outputs": [],
   "source": [
    "# 注意下两个train函数，本质的区别是 第一个只取3次值\n",
    "# 第二个train 所有的值取一遍，循环三遍\n",
    "def train(data, res, W, b, lr, epochs, batch_size):\n",
    "    train_iter = get_data(data, res, batch_size)\n",
    "    for i in range(epochs):\n",
    "        train_data, res_data = next(train_iter)\n",
    "        l = loss(linear_reg(train_data, W, b), res_data)\n",
    "        l.sum().backward()\n",
    "        sgd([W, b], lr, batch_size)\n",
    "        with torch.no_grad():\n",
    "            train_l = loss(linear_reg(train_data, W, b), res_data)\n",
    "            print('epoch', i + 1, 'loss:', train_l.mean())"
   ]
  },
  {
   "cell_type": "code",
   "execution_count": 96,
   "id": "e63cbeea",
   "metadata": {},
   "outputs": [],
   "source": [
    "def train(data, res, W, b, lr, epochs, batch_size):\n",
    "    for i in range(epochs):\n",
    "        for train_data, res_data in get_data(data, res, batch_size):\n",
    "            l = loss(linear_reg(train_data, W, b), res_data)\n",
    "            l.sum().backward()\n",
    "            sgd([W, b], lr, batch_size)\n",
    "            print('w is', W.detach().numpy().reshape(1, -1))\n",
    "        with torch.no_grad():\n",
    "            train_l = loss(linear_reg(train_data, W, b), res_data)\n",
    "            print(f'epoch, {i + 1}, loss:, {float(train_l.mean()):f}')"
   ]
  },
  {
   "cell_type": "markdown",
   "id": "280c869a",
   "metadata": {},
   "source": [
    "### 初始化变量开始训练"
   ]
  },
  {
   "cell_type": "code",
   "execution_count": 97,
   "id": "48ab471a",
   "metadata": {},
   "outputs": [
    {
     "name": "stdout",
     "output_type": "stream",
     "text": [
      "w is [[0.9427955 1.0027084]]\n",
      "w is [[1.0612068 1.1014646]]\n",
      "w is [[1.1079193 1.2406998]]\n",
      "w is [[1.0963954 1.5252073]]\n",
      "w is [[1.1171644 1.6285212]]\n",
      "w is [[1.160728  1.6503353]]\n",
      "w is [[1.3075079 1.8066338]]\n",
      "w is [[1.443762  2.1214213]]\n",
      "w is [[1.5571579 2.260409 ]]\n",
      "w is [[1.8272438 2.4394863]]\n",
      "w is [[1.8175098 2.495621 ]]\n",
      "w is [[1.9774592 2.7748513]]\n",
      "w is [[2.1116045 2.957442 ]]\n",
      "w is [[2.1827273 3.1113832]]\n",
      "w is [[2.2763107 3.316935 ]]\n",
      "w is [[2.451178 3.593502]]\n",
      "w is [[2.5694828 3.7337308]]\n",
      "w is [[2.6806648 3.958171 ]]\n",
      "w is [[2.9516778 4.403363 ]]\n",
      "w is [[3.0214674 4.5340433]]\n",
      "w is [[3.194646 4.626357]]\n",
      "w is [[3.2443516 4.7478037]]\n",
      "w is [[3.2902436 4.8737364]]\n",
      "w is [[3.2345414 4.941155 ]]\n",
      "w is [[3.2784216 5.081754 ]]\n",
      "w is [[3.3851333 5.199899 ]]\n",
      "w is [[3.4471989 5.3479414]]\n",
      "w is [[3.4702678 5.5299373]]\n",
      "w is [[3.5628347 5.6553483]]\n",
      "w is [[3.5729406 5.7634206]]\n",
      "w is [[3.546218  5.8385954]]\n",
      "w is [[3.4740567 6.0147185]]\n",
      "w is [[3.5120723 6.2340794]]\n",
      "w is [[3.510368  6.3209314]]\n",
      "w is [[3.4911098 6.4503345]]\n",
      "w is [[3.5472808 6.615069 ]]\n",
      "w is [[3.556385 6.692044]]\n",
      "w is [[3.571632 6.723035]]\n",
      "w is [[3.638768  6.7886043]]\n",
      "w is [[3.708144 6.860633]]\n",
      "w is [[3.7374828 6.9310884]]\n",
      "w is [[3.7512107 6.96701  ]]\n",
      "w is [[3.837681 7.031419]]\n",
      "w is [[3.861121 7.108525]]\n",
      "w is [[3.9024227 7.2031937]]\n",
      "w is [[3.944342  7.3074546]]\n",
      "w is [[3.9415119 7.371592 ]]\n",
      "w is [[3.9531837 7.4471602]]\n",
      "w is [[3.969752  7.4644876]]\n",
      "w is [[4.0410414 7.52732  ]]\n",
      "w is [[4.085241 7.605797]]\n",
      "w is [[4.156835  7.6364837]]\n",
      "w is [[4.1756473 7.7268987]]\n",
      "w is [[4.1952925 7.7941675]]\n",
      "w is [[4.2145395 7.836361 ]]\n",
      "w is [[4.2709246 7.933751 ]]\n",
      "w is [[4.3240914 7.9860015]]\n",
      "w is [[4.361977 8.053694]]\n",
      "w is [[4.381891 8.161043]]\n",
      "w is [[4.423382 8.266046]]\n",
      "w is [[4.433995 8.314844]]\n",
      "w is [[4.434157 8.358065]]\n",
      "w is [[4.4386644 8.413319 ]]\n",
      "w is [[4.4506073 8.501075 ]]\n",
      "w is [[4.466554 8.566603]]\n",
      "w is [[4.491679 8.589418]]\n",
      "w is [[4.537153 8.629708]]\n",
      "w is [[4.5452223 8.669536 ]]\n",
      "w is [[4.542405 8.696112]]\n",
      "w is [[4.5476174 8.7237425]]\n",
      "w is [[4.5474257 8.748993 ]]\n",
      "w is [[4.569132 8.77069 ]]\n",
      "w is [[4.5934253 8.822977 ]]\n",
      "w is [[4.6151333 8.864595 ]]\n",
      "w is [[4.6184025 8.873744 ]]\n",
      "w is [[4.6266384 8.948932 ]]\n",
      "w is [[4.6320853 8.972175 ]]\n",
      "w is [[4.639296 9.025529]]\n",
      "w is [[4.661808 9.051326]]\n",
      "w is [[4.6712604 9.07351  ]]\n",
      "w is [[4.6728954 9.092672 ]]\n",
      "w is [[4.6918397 9.127872 ]]\n",
      "w is [[4.69011  9.164933]]\n",
      "w is [[4.691279 9.181437]]\n",
      "w is [[4.699748 9.193457]]\n",
      "w is [[4.702109 9.235447]]\n",
      "w is [[4.7158484 9.258339 ]]\n",
      "w is [[4.710341 9.283697]]\n",
      "w is [[4.7193418 9.305766 ]]\n",
      "w is [[4.733647 9.353194]]\n",
      "w is [[4.7435594 9.374677 ]]\n",
      "w is [[4.7487855 9.402548 ]]\n",
      "w is [[4.7631097 9.415605 ]]\n",
      "w is [[4.763254 9.420069]]\n",
      "w is [[4.7788076 9.444013 ]]\n",
      "w is [[4.784467 9.446439]]\n",
      "w is [[4.7813163 9.4644165]]\n",
      "w is [[4.798683 9.480816]]\n",
      "w is [[4.8035192 9.4903   ]]\n",
      "w is [[4.809907 9.517172]]\n",
      "epoch, 1, loss:, 0.235117\n",
      "w is [[4.820602 9.524558]]\n",
      "w is [[4.812958 9.54796 ]]\n",
      "w is [[4.8170466 9.561041 ]]\n",
      "w is [[4.8154054 9.564978 ]]\n",
      "w is [[4.8301573 9.580826 ]]\n",
      "w is [[4.833288 9.596854]]\n",
      "w is [[4.8382597 9.613553 ]]\n",
      "w is [[4.843748 9.619418]]\n",
      "w is [[4.8457456 9.630438 ]]\n",
      "w is [[4.849069 9.647303]]\n",
      "w is [[4.8521767 9.649384 ]]\n",
      "w is [[4.85397 9.66111]]\n",
      "w is [[4.8589725 9.670811 ]]\n",
      "w is [[4.8661275 9.675148 ]]\n",
      "w is [[4.881102 9.692569]]\n",
      "w is [[4.8846393 9.703088 ]]\n",
      "w is [[4.893117 9.712709]]\n",
      "w is [[4.9021034 9.721725 ]]\n",
      "w is [[4.9056296 9.729257 ]]\n",
      "w is [[4.9069943 9.74528  ]]\n",
      "w is [[4.9101334 9.754337 ]]\n",
      "w is [[4.9114017 9.761712 ]]\n",
      "w is [[4.914344 9.767103]]\n",
      "w is [[4.912116 9.772089]]\n",
      "w is [[4.912302 9.774009]]\n",
      "w is [[4.9120765 9.777121 ]]\n",
      "w is [[4.914211 9.782702]]\n",
      "w is [[4.913956 9.786208]]\n",
      "w is [[4.9219036 9.796107 ]]\n",
      "w is [[4.9275947 9.801831 ]]\n",
      "w is [[4.9290853 9.805657 ]]\n",
      "w is [[4.932786 9.81093 ]]\n",
      "w is [[4.939324 9.820372]]\n",
      "w is [[4.943304  9.8263445]]\n",
      "w is [[4.944423 9.829361]]\n",
      "w is [[4.9474134 9.835114 ]]\n",
      "w is [[4.9489183 9.838265 ]]\n",
      "w is [[4.947748 9.842404]]\n",
      "w is [[4.9501376 9.84596  ]]\n",
      "w is [[4.9542284 9.855044 ]]\n",
      "w is [[4.9550757 9.858372 ]]\n",
      "w is [[4.955536 9.863011]]\n",
      "w is [[4.9601736 9.8684   ]]\n",
      "w is [[4.9596667 9.87037  ]]\n",
      "w is [[4.959545 9.874641]]\n",
      "w is [[4.960255 9.881235]]\n",
      "w is [[4.9603667 9.883778 ]]\n",
      "w is [[4.9641743 9.888473 ]]\n",
      "w is [[4.9647446 9.890748 ]]\n",
      "w is [[4.964154 9.893693]]\n",
      "w is [[4.96661  9.900345]]\n",
      "w is [[4.968514 9.902328]]\n",
      "w is [[4.9692993 9.904277 ]]\n",
      "w is [[4.969524 9.907097]]\n",
      "w is [[4.970613 9.913669]]\n",
      "w is [[4.971031 9.915548]]\n",
      "w is [[4.9720845 9.916571 ]]\n",
      "w is [[4.9723296 9.91967  ]]\n",
      "w is [[4.972493 9.920269]]\n",
      "w is [[4.9743843 9.926688 ]]\n",
      "w is [[4.974489 9.92947 ]]\n",
      "w is [[4.9745946 9.930663 ]]\n",
      "w is [[4.975384 9.931535]]\n",
      "w is [[4.974773 9.933718]]\n",
      "w is [[4.97537  9.934536]]\n",
      "w is [[4.975134 9.935803]]\n",
      "w is [[4.975685 9.93785 ]]\n",
      "w is [[4.977192  9.9408455]]\n",
      "w is [[4.9782515 9.941702 ]]\n",
      "w is [[4.978693 9.943483]]\n",
      "w is [[4.980315 9.944543]]\n",
      "w is [[4.980839 9.946323]]\n",
      "w is [[4.98105  9.948648]]\n",
      "w is [[4.982049 9.949998]]\n",
      "w is [[4.982365 9.950222]]\n",
      "w is [[4.9831185 9.95127  ]]\n",
      "w is [[4.9833875 9.953417 ]]\n",
      "w is [[4.9837375 9.953796 ]]\n",
      "w is [[4.9842443 9.954552 ]]\n",
      "w is [[4.9837437 9.956084 ]]\n",
      "w is [[4.9838147 9.956598 ]]\n",
      "w is [[4.9842443 9.957775 ]]\n",
      "w is [[4.984556 9.958948]]\n",
      "w is [[4.984718 9.95976 ]]\n",
      "w is [[4.9851947 9.960234 ]]\n",
      "w is [[4.9850187 9.961059 ]]\n",
      "w is [[4.985191 9.96135 ]]\n",
      "w is [[4.985848 9.962552]]\n",
      "w is [[4.986155 9.962973]]\n",
      "w is [[4.98741  9.964692]]\n",
      "w is [[4.987286  9.9661255]]\n",
      "w is [[4.98706 9.96672]]\n",
      "w is [[4.987649  9.9678335]]\n",
      "w is [[4.988313 9.969062]]\n",
      "w is [[4.988723 9.970169]]\n",
      "w is [[4.988774 9.970615]]\n",
      "w is [[4.989758 9.972453]]\n",
      "w is [[4.990159 9.97391 ]]\n",
      "w is [[4.9910107 9.974509 ]]\n",
      "w is [[4.991308 9.974998]]\n",
      "epoch, 2, loss:, 0.000409\n",
      "w is [[4.991167 9.97557 ]]\n",
      "w is [[4.991898 9.975952]]\n",
      "w is [[4.991769 9.97703 ]]\n",
      "w is [[4.991727 9.977581]]\n",
      "w is [[4.992193 9.978038]]\n",
      "w is [[4.9927144 9.978535 ]]\n",
      "w is [[4.993164 9.979147]]\n",
      "w is [[4.993292  9.9804535]]\n",
      "w is [[4.9936543 9.981018 ]]\n",
      "w is [[4.9941883 9.982013 ]]\n",
      "w is [[4.9943647 9.982918 ]]\n",
      "w is [[4.99437  9.983885]]\n",
      "w is [[4.9947824 9.984422 ]]\n",
      "w is [[4.9948387 9.984557 ]]\n",
      "w is [[4.995083 9.98545 ]]\n",
      "w is [[4.994832 9.985792]]\n",
      "w is [[4.9948835 9.98612  ]]\n",
      "w is [[4.9950123 9.986405 ]]\n",
      "w is [[4.995009 9.986754]]\n",
      "w is [[4.9953957 9.987028 ]]\n",
      "w is [[4.995627 9.98759 ]]\n",
      "w is [[4.9957185 9.988133 ]]\n",
      "w is [[4.9958134 9.988327 ]]\n",
      "w is [[4.995911 9.988608]]\n",
      "w is [[4.9959474 9.988945 ]]\n",
      "w is [[4.996091 9.989146]]\n",
      "w is [[4.9962544 9.989442 ]]\n",
      "w is [[4.9964814 9.98986  ]]\n",
      "w is [[4.9968686 9.990359 ]]\n",
      "w is [[4.9970603 9.990839 ]]\n",
      "w is [[4.9973283 9.991032 ]]\n",
      "w is [[4.99756  9.991377]]\n",
      "w is [[4.997476 9.991877]]\n",
      "w is [[4.9972925 9.9922495]]\n",
      "w is [[4.997451 9.992423]]\n",
      "w is [[4.9977474 9.99287  ]]\n",
      "w is [[4.997756  9.9930105]]\n",
      "w is [[4.9978085 9.993571 ]]\n",
      "w is [[4.9978075 9.993783 ]]\n",
      "w is [[4.9977407 9.993875 ]]\n",
      "w is [[4.9976106 9.993917 ]]\n",
      "w is [[4.997636 9.994058]]\n",
      "w is [[4.9976425 9.994166 ]]\n",
      "w is [[4.9977903 9.994194 ]]\n",
      "w is [[4.9979024 9.994344 ]]\n",
      "w is [[4.9980288 9.994507 ]]\n",
      "w is [[4.998009 9.994603]]\n",
      "w is [[4.998168 9.99465 ]]\n",
      "w is [[4.998324 9.994679]]\n",
      "w is [[4.9983892 9.9948015]]\n",
      "w is [[4.998378 9.995047]]\n",
      "w is [[4.9984007 9.995157 ]]\n",
      "w is [[4.9983687 9.995274 ]]\n",
      "w is [[4.9985976 9.995417 ]]\n",
      "w is [[4.9985166 9.995583 ]]\n",
      "w is [[4.9984617 9.995692 ]]\n",
      "w is [[4.998505 9.995716]]\n",
      "w is [[4.998511 9.995677]]\n",
      "w is [[4.9984274 9.995834 ]]\n",
      "w is [[4.9982905 9.995998 ]]\n",
      "w is [[4.9984927 9.996126 ]]\n",
      "w is [[4.9986057 9.996319 ]]\n",
      "w is [[4.998612 9.99637 ]]\n",
      "w is [[4.9988008 9.996523 ]]\n",
      "w is [[4.9989853 9.996527 ]]\n",
      "w is [[4.9990754 9.996495 ]]\n",
      "w is [[4.9989996 9.996514 ]]\n",
      "w is [[4.999037 9.996713]]\n",
      "w is [[4.9990625 9.996842 ]]\n",
      "w is [[4.9989552 9.997113 ]]\n",
      "w is [[4.9988174 9.997462 ]]\n",
      "w is [[4.998796 9.997451]]\n",
      "w is [[4.9987936 9.997477 ]]\n",
      "w is [[4.998849 9.997537]]\n",
      "w is [[4.999066 9.99747 ]]\n",
      "w is [[4.999006 9.997535]]\n",
      "w is [[4.9990673 9.99756  ]]\n",
      "w is [[4.9990277 9.997559 ]]\n",
      "w is [[4.999068 9.997758]]\n",
      "w is [[4.9992175 9.997755 ]]\n",
      "w is [[4.9991803 9.997793 ]]\n",
      "w is [[4.999267 9.997781]]\n",
      "w is [[4.9993815 9.997945 ]]\n",
      "w is [[4.99942  9.998014]]\n",
      "w is [[4.999488 9.998014]]\n",
      "w is [[4.9995556 9.997875 ]]\n",
      "w is [[4.999742  9.9979315]]\n",
      "w is [[4.9998   9.997819]]\n",
      "w is [[4.999898 9.997933]]\n",
      "w is [[5.000071 9.998069]]\n",
      "w is [[5.0000725 9.998143 ]]\n",
      "w is [[4.9999275 9.998245 ]]\n",
      "w is [[4.9998174 9.9983225]]\n",
      "w is [[4.9997563 9.998448 ]]\n",
      "w is [[4.9997406 9.998624 ]]\n",
      "w is [[4.9998055 9.998541 ]]\n",
      "w is [[4.9999375 9.99851  ]]\n",
      "w is [[4.999887 9.998481]]\n",
      "w is [[5.0000253 9.998756 ]]\n",
      "w is [[5.000005 9.998845]]\n",
      "epoch, 3, loss:, 0.000041\n",
      "[[5.000005]\n",
      " [9.998845]] [4.199369]\n"
     ]
    }
   ],
   "source": [
    "train_W = torch.normal(1, 0.1, (2, 1), requires_grad=True)\n",
    "train_b = torch.zeros(1, requires_grad=True)\n",
    "lr = 0.03\n",
    "epochs = 3\n",
    "batch_size = 10\n",
    "train(X, y, train_W, train_b, lr, epochs, batch_size)\n",
    "\n",
    "print(train_W.detach().numpy(), train_b.detach().numpy())\n"
   ]
  },
  {
   "cell_type": "markdown",
   "id": "f6516f48",
   "metadata": {},
   "source": [
    "### 和真实结果比较"
   ]
  },
  {
   "cell_type": "code",
   "execution_count": 53,
   "id": "4c6292ac",
   "metadata": {},
   "outputs": [
    {
     "name": "stdout",
     "output_type": "stream",
     "text": [
      "loss:  tensor(6.1466e-06)\n"
     ]
    }
   ],
   "source": [
    "test_iter = get_data(X, y, batch_size)\n",
    "test_data, test_res = next(test_iter)\n",
    "with torch.no_grad():\n",
    "    y_hat = linear_reg(test_data, train_W, train_b)\n",
    "    l = loss(test_res, y_hat) / batch_size\n",
    "    print('loss: ', l.mean())"
   ]
  },
  {
   "cell_type": "code",
   "execution_count": 56,
   "id": "1c7523a0",
   "metadata": {},
   "outputs": [
    {
     "data": {
      "text/plain": [
       "tensor([[0],\n",
       "        [0],\n",
       "        [1]])"
      ]
     },
     "execution_count": 56,
     "metadata": {},
     "output_type": "execute_result"
    }
   ],
   "source": [
    "y = torch.tensor([[0], [0], [1]])\n",
    "y"
   ]
  },
  {
   "cell_type": "code",
   "execution_count": 58,
   "id": "e6197d1e",
   "metadata": {},
   "outputs": [
    {
     "data": {
      "text/plain": [
       "tensor([[2],\n",
       "        [4],\n",
       "        [3]])"
      ]
     },
     "execution_count": 58,
     "metadata": {},
     "output_type": "execute_result"
    }
   ],
   "source": [
    "y_hat = torch.tensor([[2], [4], [3]])\n",
    "y_hat"
   ]
  },
  {
   "cell_type": "code",
   "execution_count": 60,
   "id": "b6b817df",
   "metadata": {},
   "outputs": [
    {
     "data": {
      "text/plain": [
       "tensor([[0.0900],\n",
       "        [0.6652],\n",
       "        [0.2447]])"
      ]
     },
     "execution_count": 60,
     "metadata": {},
     "output_type": "execute_result"
    }
   ],
   "source": [
    "def softmax(data):\n",
    "    return torch.exp(data) / torch.exp(data).sum()\n",
    "softmax(y_hat)"
   ]
  },
  {
   "cell_type": "code",
   "execution_count": 65,
   "id": "a183ca8a",
   "metadata": {},
   "outputs": [
    {
     "data": {
      "text/plain": [
       "tensor(2.5000)"
      ]
     },
     "execution_count": 65,
     "metadata": {},
     "output_type": "execute_result"
    }
   ],
   "source": [
    "(torch.tensor([1, 2]) ** 2 / 2).sum()"
   ]
  },
  {
   "cell_type": "code",
   "execution_count": 67,
   "id": "c5e6e5d7",
   "metadata": {},
   "outputs": [
    {
     "data": {
      "text/plain": [
       "tensor(2.5000)"
      ]
     },
     "execution_count": 67,
     "metadata": {},
     "output_type": "execute_result"
    }
   ],
   "source": [
    "(torch.tensor([[1, 2], [1, 2]]) ** 2 / 2).sum() / 2"
   ]
  },
  {
   "cell_type": "code",
   "execution_count": null,
   "id": "3858e2d4",
   "metadata": {},
   "outputs": [],
   "source": []
  }
 ],
 "metadata": {
  "kernelspec": {
   "display_name": "Python 3 (ipykernel)",
   "language": "python",
   "name": "python3"
  },
  "language_info": {
   "codemirror_mode": {
    "name": "ipython",
    "version": 3
   },
   "file_extension": ".py",
   "mimetype": "text/x-python",
   "name": "python",
   "nbconvert_exporter": "python",
   "pygments_lexer": "ipython3",
   "version": "3.8.10"
  }
 },
 "nbformat": 4,
 "nbformat_minor": 5
}
