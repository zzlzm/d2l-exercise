{
 "cells": [
  {
   "cell_type": "code",
   "execution_count": 39,
   "id": "8abd5db8",
   "metadata": {},
   "outputs": [],
   "source": [
    "import numpy as np\n",
    "import torch\n",
    "from d2l import torch as torch\n",
    "import math"
   ]
  },
  {
   "cell_type": "code",
   "execution_count": 40,
   "id": "027f9285",
   "metadata": {},
   "outputs": [],
   "source": [
    "max_degree = 20\n",
    "features = np.random.normal(size=(200, 20))\n",
    "np.random.shuffle(features)\n",
    "poly_features = np.power(features, np.arange(max_degree))\n",
    "true_w = np.zeros(max_degree)\n",
    "true_w[0:4] = [5, 1.2, 3.4, 5.6]\n",
    "for i in range(max_degree):\n",
    "    poly_features[:, i] /= math.gamma(i + 1)\n",
    "\n",
    "labels = np.dot(poly_features, true_w) \n",
    "labels += np.random.normal(scale=0.1, size=labels.shape)"
   ]
  },
  {
   "cell_type": "code",
   "execution_count": null,
   "id": "1ca00f1d",
   "metadata": {},
   "outputs": [],
   "source": []
  }
 ],
 "metadata": {
  "kernelspec": {
   "display_name": "Python 3 (ipykernel)",
   "language": "python",
   "name": "python3"
  },
  "language_info": {
   "codemirror_mode": {
    "name": "ipython",
    "version": 3
   },
   "file_extension": ".py",
   "mimetype": "text/x-python",
   "name": "python",
   "nbconvert_exporter": "python",
   "pygments_lexer": "ipython3",
   "version": "3.8.10"
  }
 },
 "nbformat": 4,
 "nbformat_minor": 5
}
