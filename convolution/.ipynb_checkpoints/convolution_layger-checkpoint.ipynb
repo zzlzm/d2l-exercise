{
 "cells": [
  {
   "cell_type": "markdown",
   "id": "d7f01e9e",
   "metadata": {},
   "source": [
    "# 卷积层"
   ]
  },
  {
   "cell_type": "code",
   "execution_count": 1,
   "id": "afe21ccd",
   "metadata": {},
   "outputs": [],
   "source": [
    "import torch\n",
    "from torch import nn"
   ]
  },
  {
   "cell_type": "markdown",
   "id": "a4441b3a",
   "metadata": {},
   "source": [
    "### 互相关运算"
   ]
  },
  {
   "cell_type": "code",
   "execution_count": 16,
   "id": "2ec8cc1c",
   "metadata": {},
   "outputs": [],
   "source": [
    "def corr2d(X, K):\n",
    "    \"\"\"计算二位互相关运算\"\"\"\n",
    "    w = K.shape[0]\n",
    "    h = K.shape[1]\n",
    "    Y = torch.zeros((X.shape[0] - w + 1, X.shape[1] - h + 1))\n",
    "    for i in range(X.shape[0] - w + 1):\n",
    "        for j in range(X.shape[1] - h + 1):\n",
    "            Y[i][j] = (X[i:i + w, j:j + h] * K).sum()\n",
    "    return Y\n",
    "x = torch.arange(9).reshape(3, 3)\n",
    "k = torch.arange(4).reshape(2, 2)"
   ]
  },
  {
   "cell_type": "code",
   "execution_count": 15,
   "id": "c4786e12",
   "metadata": {},
   "outputs": [
    {
     "data": {
      "text/plain": [
       "tensor([[19., 25.],\n",
       "        [37., 43.]])"
      ]
     },
     "execution_count": 15,
     "metadata": {},
     "output_type": "execute_result"
    }
   ],
   "source": [
    "corr(x, k)"
   ]
  },
  {
   "cell_type": "markdown",
   "id": "00ee9946",
   "metadata": {},
   "source": [
    "### 二维卷积层"
   ]
  },
  {
   "cell_type": "code",
   "execution_count": 18,
   "id": "67ade808",
   "metadata": {},
   "outputs": [],
   "source": [
    "class Conv2D(nn.Module):\n",
    "    def __init__(self, kernel_size):\n",
    "        super().__init__()\n",
    "        self.weight = nn.Parameter(torch.rand(kernel_size))\n",
    "        self.bias = nn.Parameter(torch.zeros(1))\n",
    "    def forward(self, x):\n",
    "        return corr2d(x, self.weight) + self.bias"
   ]
  },
  {
   "cell_type": "markdown",
   "id": "9fe97251",
   "metadata": {},
   "source": [
    "### 卷基层的简单应用：检测图形中的边缘"
   ]
  },
  {
   "cell_type": "code",
   "execution_count": 19,
   "id": "f149a659",
   "metadata": {},
   "outputs": [
    {
     "data": {
      "text/plain": [
       "tensor([[1., 1., 0., 0., 0., 0., 1., 1.],\n",
       "        [1., 1., 0., 0., 0., 0., 1., 1.],\n",
       "        [1., 1., 0., 0., 0., 0., 1., 1.],\n",
       "        [1., 1., 0., 0., 0., 0., 1., 1.],\n",
       "        [1., 1., 0., 0., 0., 0., 1., 1.],\n",
       "        [1., 1., 0., 0., 0., 0., 1., 1.]])"
      ]
     },
     "execution_count": 19,
     "metadata": {},
     "output_type": "execute_result"
    }
   ],
   "source": [
    "X = torch.ones((6, 8))\n",
    "X[:, 2:6] = 0\n",
    "X"
   ]
  },
  {
   "cell_type": "code",
   "execution_count": 23,
   "id": "9f49a573",
   "metadata": {},
   "outputs": [],
   "source": [
    "K = torch.tensor([[1., -1.]])"
   ]
  },
  {
   "cell_type": "code",
   "execution_count": 27,
   "id": "dd5c3bb3",
   "metadata": {},
   "outputs": [
    {
     "data": {
      "text/plain": [
       "tensor([[ 0.,  1.,  0.,  0.,  0., -1.,  0.],\n",
       "        [ 0.,  1.,  0.,  0.,  0., -1.,  0.],\n",
       "        [ 0.,  1.,  0.,  0.,  0., -1.,  0.],\n",
       "        [ 0.,  1.,  0.,  0.,  0., -1.,  0.],\n",
       "        [ 0.,  1.,  0.,  0.,  0., -1.,  0.],\n",
       "        [ 0.,  1.,  0.,  0.,  0., -1.,  0.]])"
      ]
     },
     "execution_count": 27,
     "metadata": {},
     "output_type": "execute_result"
    }
   ],
   "source": [
    "# 边缘列不为0\n",
    "Y = corr2d(X, K) \n",
    "Y"
   ]
  },
  {
   "cell_type": "markdown",
   "id": "488e6133",
   "metadata": {},
   "source": [
    "### 给定X和Y去学K"
   ]
  },
  {
   "cell_type": "code",
   "execution_count": 53,
   "id": "765fe118",
   "metadata": {},
   "outputs": [
    {
     "name": "stdout",
     "output_type": "stream",
     "text": [
      "batch 2, loss 8.251\n",
      "batch 4, loss 1.973\n",
      "batch 6, loss 0.572\n",
      "batch 8, loss 0.195\n",
      "batch 10, loss 0.073\n"
     ]
    }
   ],
   "source": [
    "conv2d = nn.Conv2d(1, 1, kernel_size=(1, 2), bias=False)\n",
    "X = X.reshape(1, 1, 6, 8)\n",
    "Y = Y.reshape(1, 1, 6, 7)\n",
    "\n",
    "for i in range(10):\n",
    "    conv2d.zero_grad()\n",
    "    y_hat = conv2d(X)\n",
    "    l = (Y - y_hat) ** 2\n",
    "    l.sum().backward()\n",
    "    conv2d.weight.data[:] -= 3e-2 * conv2d.weight.grad\n",
    "    if (i + 1) % 2 == 0:\n",
    "        print(f'batch {i + 1}, loss {l.sum():.3f}')"
   ]
  },
  {
   "cell_type": "code",
   "execution_count": 54,
   "id": "66a6587b",
   "metadata": {},
   "outputs": [
    {
     "data": {
      "text/plain": [
       "tensor([[[[ 1.0145, -0.9604]]]])"
      ]
     },
     "execution_count": 54,
     "metadata": {},
     "output_type": "execute_result"
    }
   ],
   "source": [
    "conv2d.weight.data"
   ]
  },
  {
   "cell_type": "markdown",
   "id": "6fe598e9",
   "metadata": {},
   "source": [
    "# 填充和步幅"
   ]
  },
  {
   "cell_type": "markdown",
   "id": "53af1f56",
   "metadata": {},
   "source": [
    "### 增加填充\n",
    "padding为1理解为上下左右每边填充1行，(2, 1)理解为上下各2，左右各1"
   ]
  },
  {
   "cell_type": "code",
   "execution_count": 59,
   "id": "773149b5",
   "metadata": {},
   "outputs": [
    {
     "name": "stdout",
     "output_type": "stream",
     "text": [
      "torch.Size([1, 1, 8, 8])\n"
     ]
    }
   ],
   "source": [
    "conv2d = nn.Conv2d(1, 1, kernel_size=3, padding=1)\n",
    "X = torch.rand((8, 8)).reshape(1, 1, 8, 8)\n",
    "Y = conv2d(X)\n",
    "print(Y.shape)"
   ]
  },
  {
   "cell_type": "code",
   "execution_count": 60,
   "id": "1349949c",
   "metadata": {},
   "outputs": [
    {
     "name": "stdout",
     "output_type": "stream",
     "text": [
      "torch.Size([1, 1, 8, 8])\n"
     ]
    }
   ],
   "source": [
    "conv2d = nn.Conv2d(1, 1, kernel_size=(5, 3), padding=(2, 1))\n",
    "Y = conv2d(X)\n",
    "print(Y.shape)"
   ]
  },
  {
   "cell_type": "markdown",
   "id": "ed0acaa0",
   "metadata": {},
   "source": [
    "### 步幅\n",
    "输出形状为：$$outHeight = floor[(n_{h} - k_{h} + p_{h} + s_{h}) / s_{h}]$$\n",
    "填充的大小一般为：$$p_{h} = k_{h} - 1$$"
   ]
  },
  {
   "cell_type": "code",
   "execution_count": 61,
   "id": "2ff9c0fc",
   "metadata": {},
   "outputs": [
    {
     "name": "stdout",
     "output_type": "stream",
     "text": [
      "torch.Size([1, 1, 4, 4])\n"
     ]
    }
   ],
   "source": [
    "conv2d = nn.Conv2d(1, 1, kernel_size=(5, 3), padding=(2, 1), stride=2)\n",
    "Y = conv2d(X)\n",
    "print(Y.shape)"
   ]
  },
  {
   "cell_type": "markdown",
   "id": "8cd3e3a9",
   "metadata": {},
   "source": [
    "# 多输入输出通道"
   ]
  },
  {
   "cell_type": "markdown",
   "id": "2e1d5736",
   "metadata": {},
   "source": [
    "### 多输入通道"
   ]
  },
  {
   "cell_type": "code",
   "execution_count": 96,
   "id": "e06c169e",
   "metadata": {},
   "outputs": [
    {
     "name": "stdout",
     "output_type": "stream",
     "text": [
      "tensor([[ 56.,  72.],\n",
      "        [104., 120.]])\n"
     ]
    }
   ],
   "source": [
    "def corr2d_multi_in(X, K):\n",
    "    return sum(corr2d(x, k) for x, k in zip(X, K))\n",
    "    \n",
    "A = torch.arange(9).reshape(3, 3) + 1\n",
    "B = torch.arange(9).reshape(3, 3)\n",
    "X = [A, B]\n",
    "k1 = torch.arange(4).reshape(2, 2) + 1\n",
    "k2 = torch.arange(4).reshape(2, 2)\n",
    "K = torch.stack((k1, k2), 0)\n",
    "\n",
    "print(corr2d_multi_in(X, K))"
   ]
  },
  {
   "cell_type": "markdown",
   "id": "3d36ee71",
   "metadata": {},
   "source": [
    "### 多输入输出通道"
   ]
  },
  {
   "cell_type": "code",
   "execution_count": 97,
   "id": "f5732e4d",
   "metadata": {},
   "outputs": [
    {
     "data": {
      "text/plain": [
       "torch.Size([3, 2, 2, 2])"
      ]
     },
     "execution_count": 97,
     "metadata": {},
     "output_type": "execute_result"
    }
   ],
   "source": [
    "def corr2d_multi_in_out(X, K):\n",
    "    return torch.stack([corr2d_multi_in(X, k) for  k in K], 0)\n",
    "\n",
    "K = torch.stack((K, K + 1, K + 2), 0)\n",
    "K.shape"
   ]
  },
  {
   "cell_type": "code",
   "execution_count": 98,
   "id": "e30a4780",
   "metadata": {},
   "outputs": [
    {
     "data": {
      "text/plain": [
       "tensor([[[ 56.,  72.],\n",
       "         [104., 120.]],\n",
       "\n",
       "        [[ 76., 100.],\n",
       "         [148., 172.]],\n",
       "\n",
       "        [[ 96., 128.],\n",
       "         [192., 224.]]])"
      ]
     },
     "execution_count": 98,
     "metadata": {},
     "output_type": "execute_result"
    }
   ],
   "source": [
    "corr2d_multi_in_out(X, K)"
   ]
  },
  {
   "cell_type": "code",
   "execution_count": null,
   "id": "91fc93ed",
   "metadata": {},
   "outputs": [],
   "source": []
  }
 ],
 "metadata": {
  "kernelspec": {
   "display_name": "Python 3 (ipykernel)",
   "language": "python",
   "name": "python3"
  },
  "language_info": {
   "codemirror_mode": {
    "name": "ipython",
    "version": 3
   },
   "file_extension": ".py",
   "mimetype": "text/x-python",
   "name": "python",
   "nbconvert_exporter": "python",
   "pygments_lexer": "ipython3",
   "version": "3.8.10"
  }
 },
 "nbformat": 4,
 "nbformat_minor": 5
}
