{
 "cells": [
  {
   "cell_type": "markdown",
   "id": "d4f202c4",
   "metadata": {},
   "source": [
    "### 线性回归框架实现\n",
    "\n",
    "1. 构造数据\n",
    "2. 定义模型\n",
    "3. 初始化变量\n",
    "4. 定义优化函数\n",
    "5. 定义损失函数\n",
    "6. 训练\n",
    "7. 检测训练效果"
   ]
  },
  {
   "cell_type": "code",
   "execution_count": 23,
   "id": "0cea536d",
   "metadata": {},
   "outputs": [],
   "source": [
    "import torch\n",
    "import matplotlib.pyplot as plt\n",
    "import torch.nn as nn"
   ]
  },
  {
   "cell_type": "code",
   "execution_count": 24,
   "id": "1bd27cec",
   "metadata": {},
   "outputs": [],
   "source": [
    "def net(x, w, b):\n",
    "    return torch.matmul(x, w) + b + torch.normal(0, 0.01, (1, 1))"
   ]
  },
  {
   "cell_type": "code",
   "execution_count": 25,
   "id": "6940d5f0",
   "metadata": {},
   "outputs": [],
   "source": [
    "true_w = torch.tensor([2., -3.4])\n",
    "true_b = 4.2\n",
    "data_size = 1000\n",
    "\n",
    "true_x = torch.normal(0, 1, (data_size, 2))\n",
    "true_y = net(true_x, true_w, true_b)\n",
    "true_y = true_y.reshape(-1, 1)\n",
    "# fig, ax = plt.subplots()\n",
    "# ax.scatter(true_x[:, 0], true_y, s=1)\n",
    "# plt.show()\n",
    "\n",
    "data_loader = torch.utils.data.DataLoader(torch.utils.data.TensorDataset(true_x, true_y), batch_size=10)\n"
   ]
  },
  {
   "cell_type": "code",
   "execution_count": 26,
   "id": "5be8d15b",
   "metadata": {},
   "outputs": [],
   "source": [
    "w = nn.parameter.Parameter(torch.normal(0, .01, (1, 2)))\n",
    "b = nn.parameter.Parameter(torch.zeros(1))\n",
    "model = nn.Sequential(nn.Linear(2, 1))\n",
    "# model[0].weight.data.normal_(0, 0.01)\n",
    "# model[0].bias.data.fill_(0)\n",
    "model[0].weight = w\n",
    "model[0].bais = b\n",
    "loss = nn.MSELoss()\n",
    "optimizer = torch.optim.SGD(model.parameters(), lr=0.03)"
   ]
  },
  {
   "cell_type": "code",
   "execution_count": 27,
   "id": "bf111d0a",
   "metadata": {},
   "outputs": [
    {
     "name": "stdout",
     "output_type": "stream",
     "text": [
      "epoch 0 loss tensor(8.6076e-05)\n",
      "[[ 1.9955729 -3.3979838]] [4.210695]\n",
      "epoch 1 loss tensor(4.2323e-10)\n",
      "[[ 1.9999878 -3.4000037]] [4.218533]\n",
      "epoch 2 loss tensor(8.9221e-12)\n",
      "[[ 1.9999999 -3.4000003]] [4.218547]\n"
     ]
    }
   ],
   "source": [
    "epochs = 3\n",
    "for epoch in range(epochs):\n",
    "    for x, y in data_loader:\n",
    "        optimizer.zero_grad()\n",
    "        l = loss(model(x), y)\n",
    "        l.backward()\n",
    "        optimizer.step()\n",
    "    with torch.no_grad():\n",
    "        l = loss(model(true_x), true_y)\n",
    "        print('epoch', epoch, 'loss', l)\n",
    "        print(model[0].weight.detach().numpy(), model[0].bias.detach().numpy())"
   ]
  },
  {
   "cell_type": "code",
   "execution_count": null,
   "id": "90eece06",
   "metadata": {},
   "outputs": [],
   "source": []
  }
 ],
 "metadata": {
  "kernelspec": {
   "display_name": "Python 3 (ipykernel)",
   "language": "python",
   "name": "python3"
  },
  "language_info": {
   "codemirror_mode": {
    "name": "ipython",
    "version": 3
   },
   "file_extension": ".py",
   "mimetype": "text/x-python",
   "name": "python",
   "nbconvert_exporter": "python",
   "pygments_lexer": "ipython3",
   "version": "3.8.10"
  }
 },
 "nbformat": 4,
 "nbformat_minor": 5
}
