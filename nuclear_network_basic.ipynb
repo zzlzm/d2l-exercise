{
 "cells": [
  {
   "cell_type": "code",
   "execution_count": 1,
   "id": "3120b544",
   "metadata": {},
   "outputs": [],
   "source": [
    "import torch\n",
    "from torch import nn\n",
    "from torch.nn import functionalonal as F"
   ]
  },
  {
   "cell_type": "code",
   "execution_count": 2,
   "id": "34c1dec2",
   "metadata": {},
   "outputs": [
    {
     "data": {
      "text/plain": [
       "tensor([[ 0.1332, -0.0452,  0.1903,  0.0644, -0.1475, -0.0119,  0.0314,  0.1750,\n",
       "         -0.0359, -0.0328],\n",
       "        [ 0.1034,  0.0574,  0.1422,  0.0808, -0.0259, -0.0198, -0.1130,  0.0627,\n",
       "          0.0044,  0.2505]], grad_fn=<AddmmBackward0>)"
      ]
     },
     "execution_count": 2,
     "metadata": {},
     "output_type": "execute_result"
    }
   ],
   "source": [
    "net = nn.Sequential(nn.Linear(20, 256), nn.ReLU(), nn.Linear(256, 10))\n",
    "X = torch.rand(2, 20)\n",
    "net(X)"
   ]
  },
  {
   "cell_type": "markdown",
   "id": "c5e31483",
   "metadata": {},
   "source": [
    "### 自定义层"
   ]
  },
  {
   "cell_type": "code",
   "execution_count": 7,
   "id": "18e2c543",
   "metadata": {},
   "outputs": [
    {
     "data": {
      "text/plain": [
       "tensor([[ 0.1361,  0.3045,  0.0739, -0.0110, -0.0979,  0.1091, -0.1106,  0.0965,\n",
       "          0.2709,  0.0904],\n",
       "        [ 0.0841,  0.2806,  0.0206,  0.0581, -0.0206, -0.0105,  0.0094,  0.1687,\n",
       "          0.2114, -0.0470]], grad_fn=<AddmmBackward0>)"
      ]
     },
     "execution_count": 7,
     "metadata": {},
     "output_type": "execute_result"
    }
   ],
   "source": [
    "class MLP(nn.Module):\n",
    "    def __init__(self):\n",
    "        super().__init__()\n",
    "        self.hidden = nn.Linear(20, 256)\n",
    "        self.out = nn.Linear(256, 10)\n",
    "    \n",
    "    def forward(self, X):\n",
    "        return self.out(F.relu(self.hidden(X)))\n",
    "net = MLP()\n",
    "net(X)"
   ]
  },
  {
   "cell_type": "code",
   "execution_count": null,
   "id": "77c719d4",
   "metadata": {},
   "outputs": [],
   "source": []
  }
 ],
 "metadata": {
  "kernelspec": {
   "display_name": "Python 3 (ipykernel)",
   "language": "python",
   "name": "python3"
  },
  "language_info": {
   "codemirror_mode": {
    "name": "ipython",
    "version": 3
   },
   "file_extension": ".py",
   "mimetype": "text/x-python",
   "name": "python",
   "nbconvert_exporter": "python",
   "pygments_lexer": "ipython3",
   "version": "3.8.10"
  }
 },
 "nbformat": 4,
 "nbformat_minor": 5
}
