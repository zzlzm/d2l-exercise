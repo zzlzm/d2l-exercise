{
 "cells": [
  {
   "cell_type": "code",
   "execution_count": 1,
   "id": "b29e0956",
   "metadata": {},
   "outputs": [],
   "source": [
    "import torch"
   ]
  },
  {
   "cell_type": "code",
   "execution_count": 20,
   "id": "c5167644",
   "metadata": {},
   "outputs": [],
   "source": [
    "# rand产生0-1之间的均匀分布，randn产生均值为0方差为1的高斯分布\n",
    "def drop_out(X, dropRate):\n",
    "    mask = (torch.rand(X.shape) > dropRate).float()\n",
    "    return mask * X / (1 - dropRate)"
   ]
  },
  {
   "cell_type": "code",
   "execution_count": null,
   "id": "068b1fc2",
   "metadata": {},
   "outputs": [],
   "source": []
  }
 ],
 "metadata": {
  "kernelspec": {
   "display_name": "Python 3 (ipykernel)",
   "language": "python",
   "name": "python3"
  },
  "language_info": {
   "codemirror_mode": {
    "name": "ipython",
    "version": 3
   },
   "file_extension": ".py",
   "mimetype": "text/x-python",
   "name": "python",
   "nbconvert_exporter": "python",
   "pygments_lexer": "ipython3",
   "version": "3.8.10"
  }
 },
 "nbformat": 4,
 "nbformat_minor": 5
}
