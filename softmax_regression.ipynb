{
 "cells": [
  {
   "cell_type": "markdown",
   "id": "ac47e9ca",
   "metadata": {},
   "source": [
    "## softmax回归\n",
    "1. 从torchvision取fashion_mnist数据集\n",
    "2. 定义softmax模型\n",
    "3. 定义损失函数 => 交叉熵\n",
    "4. 定义优化函数\n",
    "5. 进行训练\n",
    "6. 输出训练效果"
   ]
  },
  {
   "cell_type": "code",
   "execution_count": 53,
   "id": "260b8fec",
   "metadata": {},
   "outputs": [],
   "source": [
    "import torch\n",
    "import torchvision\n",
    "import matplotlib.pyplot as plt"
   ]
  },
  {
   "cell_type": "markdown",
   "id": "cd323c8a",
   "metadata": {},
   "source": [
    "### 读取数据"
   ]
  },
  {
   "cell_type": "code",
   "execution_count": 54,
   "id": "79ed0831",
   "metadata": {},
   "outputs": [],
   "source": [
    "def get_data(batch_size, train=True):\n",
    "    dataset = torchvision.datasets.FashionMNIST('../data',\n",
    "                                                train=train, download=True,\n",
    "                                                transform=torchvision.transforms.ToTensor())\n",
    "    dataloader = torch.utils.data.DataLoader(dataset, batch_size, num_workers=4)\n",
    "    for data, label in iter(dataloader):\n",
    "        yield data, label\n",
    "\n",
    "def get_label_title(labels):\n",
    "    label_title = ['T-shirt', 'Trouser', 'Pullover', 'Dress',\n",
    "                   'Coat', 'Sandal', 'Shirt', 'Sneaker', 'Bag', 'Ankle boot']\n",
    "    return [label_title[i] for i in labels]\n",
    "def show_imgs(row, cols, imgs, titles):\n",
    "    fig, axes = plt.subplots(row, cols, figsize=(9,2))\n",
    "    axes = axes.flatten()\n",
    "    for (ax, img, title) in zip(axes, imgs, titles):\n",
    "        ax.set_title(title)\n",
    "        ax.imshow(img.reshape(28, 28))"
   ]
  },
  {
   "cell_type": "code",
   "execution_count": 55,
   "id": "101c53d2",
   "metadata": {},
   "outputs": [
    {
     "name": "stdout",
     "output_type": "stream",
     "text": [
      "torch.Size([28, 28]) tensor([9, 0, 0, 3])\n"
     ]
    },
    {
     "data": {
      "image/png": "[encoded data removed]",
      "text/plain": [
       "<Figure size 648x144 with 4 Axes>"
      ]
     },
     "metadata": {
      "needs_background": "light"
     },
     "output_type": "display_data"
    }
   ],
   "source": [
    "data_iter = get_data(4, train=True)\n",
    "data, labels = next(data_iter)\n",
    "print(data[0][0].shape, labels)\n",
    "show_imgs(1, 4, data, get_label_title(labels))"
   ]
  },
  {
   "cell_type": "markdown",
   "id": "fda0034a",
   "metadata": {},
   "source": [
    "### 定义softmax"
   ]
  },
  {
   "cell_type": "code",
   "execution_count": 56,
   "id": "b6160b9a",
   "metadata": {},
   "outputs": [],
   "source": [
    "def softmax(x):\n",
    "    return torch.exp(x) / torch.exp(x).sum(1, keepdims=True)"
   ]
  },
  {
   "cell_type": "markdown",
   "id": "a289dc41",
   "metadata": {},
   "source": [
    "### 定义模型"
   ]
  },
  {
   "cell_type": "code",
   "execution_count": 57,
   "id": "4ca7b462",
   "metadata": {},
   "outputs": [],
   "source": [
    "def net(x, w, b):\n",
    "    return softmax(torch.matmul(x.reshape(-1, 784), w) + b)"
   ]
  },
  {
   "cell_type": "markdown",
   "id": "b3375510",
   "metadata": {},
   "source": [
    "### 定义损失函数"
   ]
  },
  {
   "cell_type": "code",
   "execution_count": 58,
   "id": "94655b43",
   "metadata": {},
   "outputs": [],
   "source": [
    "def loss(y, y_hat):\n",
    "    return -torch.log(y_hat[range(len(y)), y])"
   ]
  },
  {
   "cell_type": "markdown",
   "id": "c25f3db9",
   "metadata": {},
   "source": [
    "### 定义优化函数"
   ]
  },
  {
   "cell_type": "code",
   "execution_count": 79,
   "id": "29d731c6",
   "metadata": {},
   "outputs": [],
   "source": [
    "def sgd(params, lr, batch_size):\n",
    "    with torch.no_grad():\n",
    "        for param in params:\n",
    "            param -= lr * param.grad / batch_size\n",
    "            param.grad.zero_()"
   ]
  },
  {
   "cell_type": "code",
   "execution_count": 80,
   "id": "53b3024b",
   "metadata": {},
   "outputs": [],
   "source": [
    "class Accumulator:\n",
    "    def __init__(self, data_length):\n",
    "        self.data = [0.0] * data_length\n",
    "        \n",
    "    def add(self, *args):\n",
    "        self.data = [a + b for (a, b) in zip(self.data, args)]\n",
    "    \n",
    "    def clear(self):\n",
    "        self.data = [0.0] * data_length\n",
    "    \n",
    "    def __getitem__(self, idx):\n",
    "        return self.data[idx]"
   ]
  },
  {
   "cell_type": "markdown",
   "id": "c36636ef",
   "metadata": {},
   "source": [
    "### 进行训练"
   ]
  },
  {
   "cell_type": "code",
   "execution_count": 93,
   "id": "2e4b5ba8",
   "metadata": {},
   "outputs": [],
   "source": [
    "def accuracy(y, y_hat):\n",
    "    return float((y_hat.argmax(axis=1).type(y.dtype) == y).type(y.dtype).sum())\n",
    "    \n",
    "def train(batch_size, lr, w, b):\n",
    "    accu = Accumulator(2)\n",
    "    for x, y in get_data(batch_size, train=True):\n",
    "        y_hat = net(x, w, b)\n",
    "        l = loss(y, y_hat)\n",
    "        l.sum().backward()\n",
    "        sgd([w, b], lr, batch_size)\n",
    "        accu.add(accuracy(y, y_hat), y.numel())\n",
    "    print('train set:', accu[0], accu[1], accu[0] / accu[1])\n",
    "    return w, b"
   ]
  },
  {
   "cell_type": "markdown",
   "id": "75b0a95e",
   "metadata": {},
   "source": [
    "### 准确性验证"
   ]
  },
  {
   "cell_type": "code",
   "execution_count": 98,
   "id": "7c859f0d",
   "metadata": {},
   "outputs": [
    {
     "name": "stdout",
     "output_type": "stream",
     "text": [
      "epoch: 0\n",
      "train set: 28814.0 60000.0 0.48023333333333335\n",
      "test set: 5952.0 10000.0 0.5952\n",
      "epoch: 1\n",
      "train set: 37887.0 60000.0 0.63145\n",
      "test set: 6526.0 10000.0 0.6526\n",
      "epoch: 2\n",
      "train set: 40608.0 60000.0 0.6768\n",
      "test set: 6842.0 10000.0 0.6842\n",
      "epoch: 3\n",
      "train set: 42156.0 60000.0 0.7026\n",
      "test set: 7038.0 10000.0 0.7038\n",
      "epoch: 4\n",
      "train set: 43199.0 60000.0 0.7199833333333333\n",
      "test set: 7171.0 10000.0 0.7171\n",
      "epoch: 5\n",
      "train set: 43964.0 60000.0 0.7327333333333333\n",
      "test set: 7278.0 10000.0 0.7278\n",
      "epoch: 6\n",
      "train set: 44547.0 60000.0 0.74245\n",
      "test set: 7360.0 10000.0 0.736\n",
      "epoch: 7\n",
      "train set: 45064.0 60000.0 0.7510666666666667\n",
      "test set: 7417.0 10000.0 0.7417\n",
      "epoch: 8\n",
      "train set: 45450.0 60000.0 0.7575\n",
      "test set: 7470.0 10000.0 0.747\n",
      "epoch: 9\n",
      "train set: 45788.0 60000.0 0.7631333333333333\n",
      "test set: 7528.0 10000.0 0.7528\n"
     ]
    }
   ],
   "source": [
    "def show_accuracy():\n",
    "    batch_size = 256\n",
    "    lr = 0.1\n",
    "    epochs = 10\n",
    "    w = torch.normal(0, 1, size=(784, 10), requires_grad=True)\n",
    "    b = torch.zeros(size=(1, 10), requires_grad=True)\n",
    "    for epoch in range(epochs):\n",
    "        accu = Accumulator(2)\n",
    "        print('epoch:', epoch)\n",
    "        w, b = train(batch_size, lr, w, b)\n",
    "        for x, y in get_data(batch_size, train=False):\n",
    "            accu.add(accuracy(y, net(x, w, b)), y.numel())\n",
    "        print('test set:', accu[0], accu[1], accu[0] / accu[1])\n",
    "show_accuracy()"
   ]
  },
  {
   "cell_type": "code",
   "execution_count": null,
   "id": "76b2adb2",
   "metadata": {},
   "outputs": [],
   "source": []
  }
 ],
 "metadata": {
  "kernelspec": {
   "display_name": "Python 3 (ipykernel)",
   "language": "python",
   "name": "python3"
  },
  "language_info": {
   "codemirror_mode": {
    "name": "ipython",
    "version": 3
   },
   "file_extension": ".py",
   "mimetype": "text/x-python",
   "name": "python",
   "nbconvert_exporter": "python",
   "pygments_lexer": "ipython3",
   "version": "3.8.10"
  }
 },
 "nbformat": 4,
 "nbformat_minor": 5
}
