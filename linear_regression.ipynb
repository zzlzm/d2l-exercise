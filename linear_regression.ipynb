{
 "cells": [
  {
   "cell_type": "code",
   "execution_count": 466,
   "id": "af98a167",
   "metadata": {},
   "outputs": [],
   "source": [
    "import torch\n",
    "import matplotlib.pyplot as plt\n",
    "import numpy as np"
   ]
  },
  {
   "cell_type": "markdown",
   "id": "16cd0885",
   "metadata": {},
   "source": [
    "## 线性回归\n",
    "1. 构造数据\n",
    "2. 定义取数函数（小批量梯度下降需要随机取数）\n",
    "2. 定义损失函数\n",
    "3. 定义优化函数\n",
    "4. 定义预测模型 $y=WX+b$\n",
    "5. 进行多轮训练\n",
    "6. 训练效果检测"
   ]
  },
  {
   "cell_type": "markdown",
   "id": "5589fbe3",
   "metadata": {},
   "source": [
    "### 构造数据\n",
    "构造一个线性数据集，假设有两个变量\n",
    "$y = w1 * x1 + w2 * x2 + b$"
   ]
  },
  {
   "cell_type": "code",
   "execution_count": 569,
   "id": "eb53629d",
   "metadata": {},
   "outputs": [
    {
     "name": "stdout",
     "output_type": "stream",
     "text": [
      "tensor([-1.3808,  0.0918]) tensor([-1.7768])\n"
     ]
    }
   ],
   "source": [
    "W = torch.tensor([5., 10])\n",
    "b = 4.2\n",
    "X = torch.normal(0, 1, (1000, 2))\n",
    "noise = torch.normal(1, 0.1, (1, 1))\n",
    "y = torch.matmul(X, W.reshape(2, 1)) + b\n",
    "y +=  torch.normal(0, 0.01, y.shape)\n",
    "print(X[0], y[0])"
   ]
  },
  {
   "cell_type": "code",
   "execution_count": 566,
   "id": "c4d992ba",
   "metadata": {},
   "outputs": [
    {
     "data": {
      "text/plain": [
       "<matplotlib.collections.PathCollection at 0x7f02eef63f10>"
      ]
     },
     "execution_count": 566,
     "metadata": {},
     "output_type": "execute_result"
    },
    {
     "data": {
      "image/png": "[encoded data removed]",
      "text/plain": [
       "<Figure size 360x216 with 1 Axes>"
      ]
     },
     "metadata": {
      "needs_background": "light"
     },
     "output_type": "display_data"
    }
   ],
   "source": [
    "# 画图验证下y和x1之间是线性关系\n",
    "fig, ax = plt.subplots(figsize=(5, 3))\n",
    "ax.scatter(X[:, 0], y, s=1)"
   ]
  },
  {
   "cell_type": "markdown",
   "id": "15488bea",
   "metadata": {},
   "source": [
    "### 定义损失函数\n",
    "平方损失 $loss = \\frac{1}{2} * (y - yhat) ^ 2$"
   ]
  },
  {
   "cell_type": "code",
   "execution_count": 553,
   "id": "0559e558",
   "metadata": {},
   "outputs": [],
   "source": [
    "def loss(y_hat, y):\n",
    "    return (y_hat - y.reshape(y_hat.shape)) ** 2 / 2"
   ]
  },
  {
   "cell_type": "markdown",
   "id": "ac1c16b4",
   "metadata": {},
   "source": [
    "### 定义优化函数\n",
    "梯度下降法向参数的真实值逼近"
   ]
  },
  {
   "cell_type": "code",
   "execution_count": 554,
   "id": "aec8756b",
   "metadata": {},
   "outputs": [],
   "source": [
    "def sgd(params, lr, batch_size):\n",
    "    with torch.no_grad():\n",
    "        for param in params:\n",
    "            param -= lr * param.grad / batch_size\n",
    "            param.grad.zero_()"
   ]
  },
  {
   "cell_type": "markdown",
   "id": "c90b0e1b",
   "metadata": {},
   "source": [
    "### 定义取数函数\n",
    "小批量梯度下降法需要从数据集里随机取小批量的数据来进行训练"
   ]
  },
  {
   "cell_type": "code",
   "execution_count": 555,
   "id": "158ef96e",
   "metadata": {},
   "outputs": [],
   "source": [
    "def get_data(data, res, batch_size):\n",
    "    idx = list(range(len(data)))\n",
    "    np.random.shuffle(idx)\n",
    "    for i in range(0, len(idx), batch_size):\n",
    "        indices = idx[i:i + batch_size]\n",
    "        yield data[indices], res[indices]"
   ]
  },
  {
   "cell_type": "markdown",
   "id": "b7918176",
   "metadata": {},
   "source": [
    "### 定义模型"
   ]
  },
  {
   "cell_type": "code",
   "execution_count": 556,
   "id": "b88386e2",
   "metadata": {},
   "outputs": [],
   "source": [
    "def linear_reg(X, W, b):\n",
    "    return torch.matmul(X, W) + b"
   ]
  },
  {
   "cell_type": "markdown",
   "id": "04cd74b3",
   "metadata": {},
   "source": [
    "### 定义训练训练函数\n",
    "求y_hat，然后调用损失函数，对参数求导"
   ]
  },
  {
   "cell_type": "code",
   "execution_count": 521,
   "id": "abea0e1d",
   "metadata": {},
   "outputs": [],
   "source": [
    "# 注意下两个train函数，本质的区别是 第一个只取3次值\n",
    "# 第二个train 所有的值取一遍，循环三遍\n",
    "def train(data, res, W, b, lr, epochs, batch_size):\n",
    "    train_iter = get_data(data, res, batch_size)\n",
    "    for i in range(epochs):\n",
    "        train_data, res_data = next(train_iter)\n",
    "        l = loss(linear_reg(train_data, W, b), res_data)\n",
    "        l.sum().backward()\n",
    "        sgd([W, b], lr, batch_size)\n",
    "        print(train_data, res_data)\n",
    "        with torch.no_grad():\n",
    "            train_l = loss(linear_reg(train_data, W, b), res_data)\n",
    "            print('epoch', i + 1, 'loss:', train_l.mean())"
   ]
  },
  {
   "cell_type": "code",
   "execution_count": 557,
   "id": "e63cbeea",
   "metadata": {},
   "outputs": [],
   "source": [
    "def train(data, res, W, b, lr, epochs, batch_size):\n",
    "    for i in range(epochs):\n",
    "        for train_data, res_data in get_data(data, res, batch_size):\n",
    "            l = loss(linear_reg(train_data, W, b), res_data)\n",
    "            l.sum().backward()\n",
    "            sgd([W, b], lr, batch_size)\n",
    "        with torch.no_grad():\n",
    "            train_l = loss(linear_reg(train_data, W, b), res_data)\n",
    "            print(f'epoch, {i + 1}, loss:, {float(train_l.mean()):f}')"
   ]
  },
  {
   "cell_type": "markdown",
   "id": "280c869a",
   "metadata": {},
   "source": [
    "### 初始化变量开始训练"
   ]
  },
  {
   "cell_type": "code",
   "execution_count": 572,
   "id": "48ab471a",
   "metadata": {},
   "outputs": [
    {
     "name": "stdout",
     "output_type": "stream",
     "text": [
      "epoch, 1, loss:, 0.036298\n",
      "epoch, 2, loss:, 0.000150\n",
      "epoch, 3, loss:, 0.000046\n",
      "[[4.9994674]\n",
      " [9.999225 ]] [4.1995792]\n"
     ]
    }
   ],
   "source": [
    "train_W = torch.normal(1, 0.1, (2, 1), requires_grad=True)\n",
    "train_b = torch.zeros(1, requires_grad=True)\n",
    "lr = 0.03\n",
    "epochs = 3\n",
    "batch_size = 10\n",
    "train(X, y, train_W, train_b, lr, epochs, batch_size)\n",
    "\n",
    "print(train_W.detach().numpy(), train_b.detach().numpy())\n"
   ]
  },
  {
   "cell_type": "markdown",
   "id": "f6516f48",
   "metadata": {},
   "source": [
    "### 和真实结果比较"
   ]
  },
  {
   "cell_type": "code",
   "execution_count": 465,
   "id": "4c6292ac",
   "metadata": {},
   "outputs": [
    {
     "name": "stdout",
     "output_type": "stream",
     "text": [
      "loss:  tensor(1.1112)\n"
     ]
    }
   ],
   "source": [
    "\n",
    "test_iter = get_data(X, y, batch_size)\n",
    "test_data, test_res = next(test_iter)\n",
    "with torch.no_grad():\n",
    "    y_hat = linear_reg(test_data, train_W, train_b)\n",
    "    l = loss(test_res, y_hat) / batch_size\n",
    "    print('loss: ', l.mean())"
   ]
  }
 ],
 "metadata": {
  "kernelspec": {
   "display_name": "Python 3 (ipykernel)",
   "language": "python",
   "name": "python3"
  },
  "language_info": {
   "codemirror_mode": {
    "name": "ipython",
    "version": 3
   },
   "file_extension": ".py",
   "mimetype": "text/x-python",
   "name": "python",
   "nbconvert_exporter": "python",
   "pygments_lexer": "ipython3",
   "version": "3.8.10"
  }
 },
 "nbformat": 4,
 "nbformat_minor": 5
}
